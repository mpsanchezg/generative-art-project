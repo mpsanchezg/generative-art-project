{
  "cells": [
    {
      "cell_type": "code",
      "execution_count": null,
      "metadata": {
        "colab": {
          "base_uri": "https://localhost:8080/"
        },
        "collapsed": true,
        "id": "gpj-YNuuAX_h",
        "outputId": "2238440f-10aa-4122-9d0c-675bae235ab6"
      },
      "outputs": [
        {
          "output_type": "stream",
          "name": "stdout",
          "text": [
            "Collecting git+https://github.com/huggingface/diffusers\n",
            "  Cloning https://github.com/huggingface/diffusers to /tmp/pip-req-build-57vgjdq1\n",
            "  Running command git clone --filter=blob:none --quiet https://github.com/huggingface/diffusers /tmp/pip-req-build-57vgjdq1\n",
            "  Resolved https://github.com/huggingface/diffusers to commit 35cc66dc4ca73313fbfcc0ab55014969ed655a3e\n"
          ]
        }
      ],
      "source": [
        "!pip install git+https://github.com/huggingface/diffusers transformers torchsde\n",
        "!pip install accelerate"
      ]
    },
    {
      "cell_type": "code",
      "execution_count": null,
      "metadata": {
        "id": "-LFWf7Y3Ay3h",
        "collapsed": true
      },
      "outputs": [],
      "source": [
        "import torch\n",
        "from diffusers import MotionAdapter, AnimateDiffPipeline\n",
        "from diffusers.pipelines import DiffusionPipeline\n",
        "from diffusers.schedulers import DPMSolverMultistepScheduler\n",
        "from diffusers.utils import export_to_gif\n",
        "from IPython.display import display, Image as displayImage"
      ]
    },
    {
      "cell_type": "code",
      "execution_count": null,
      "metadata": {
        "id": "VJ0FY-3CBLos",
        "collapsed": true
      },
      "outputs": [],
      "source": [
        "motion_id = \"guoyww/animatediff-motion-adapter-v1-5-2\" # \"CiaraRowles/TemporalDiff\"\n",
        "adapter = MotionAdapter.from_pretrained(motion_id)\n",
        "\n",
        "# Some config attributes are not expected and therefore not passed to MotionAdapter\n",
        "# Open cell to see details"
      ]
    },
    {
      "cell_type": "code",
      "execution_count": null,
      "metadata": {
        "id": "6JPSCDKHBmg-",
        "collapsed": true
      },
      "outputs": [],
      "source": [
        "from diffusers import ControlNetModel\n",
        "controlnet = ControlNetModel.from_pretrained(\"lllyasviel/control_v11p_sd15_openpose\", torch_dtype=torch.float16)"
      ]
    },
    {
      "cell_type": "code",
      "execution_count": null,
      "metadata": {
        "id": "SUoH90yNqzC8",
        "collapsed": true
      },
      "outputs": [],
      "source": [
        "from diffusers import AutoencoderKL\n",
        "vae = AutoencoderKL.from_pretrained(\"stabilityai/sd-vae-ft-mse\", torch_dtype=torch.float16)"
      ]
    },
    {
      "cell_type": "code",
      "execution_count": null,
      "metadata": {
        "collapsed": true,
        "id": "cj0PF8arBOsq"
      },
      "outputs": [],
      "source": [
        "model_id = \"SG161222/Realistic_Vision_V5.1_noVAE\"\n",
        "# model_id = \"stablediffusionapi/dreamshaper-v8\"\n",
        "pipe = DiffusionPipeline.from_pretrained(\n",
        "    model_id,\n",
        "    motion_adapter=adapter,\n",
        "    controlnet=controlnet,\n",
        "    vae=vae,\n",
        "    custom_pipeline=\"pipeline_animatediff_controlnet\",\n",
        ").to(device=\"cuda\", dtype=torch.float16)\n",
        "pipe.scheduler = DPMSolverMultistepScheduler.from_pretrained(\n",
        "    model_id, subfolder=\"scheduler\", clip_sample=False, timestep_spacing=\"linspace\", steps_offset=1, final_sigmas_type=\"sigma_min\"\n",
        ")"
      ]
    },
    {
      "cell_type": "code",
      "execution_count": null,
      "metadata": {
        "id": "EoB2W7vDBRdW"
      },
      "outputs": [],
      "source": [
        "pipe.enable_vae_slicing()\n",
        "# pipe.enable_model_cpu_offload()"
      ]
    },
    {
      "cell_type": "code",
      "execution_count": null,
      "metadata": {
        "id": "2ff1TcCOF3ki"
      },
      "outputs": [],
      "source": [
        "from google.colab import drive\n",
        "\n",
        "drive.mount('/content/drive')"
      ]
    },
    {
      "cell_type": "code",
      "execution_count": null,
      "metadata": {
        "id": "XFMloN11Eb-s"
      },
      "outputs": [],
      "source": [
        "# Check if this snippet is still needed\n",
        "\n",
        "import numpy as np\n",
        "import os\n",
        "import matplotlib.pyplot as plt\n",
        "from glob import glob\n",
        "from IPython.display import display\n",
        "from PIL import Image\n",
        "\n",
        "# Directory containing the PNG frames\n",
        "frames_directory = \"/path/to/your/frames/directory\"\n",
        "\n",
        "# List to store frames\n",
        "openpose_frames = []\n",
        "\n",
        "# Load existing frames\n",
        "for i in range(1, 16 + 1):\n",
        "    frame_path = os.path.join(frames_directory, f\"frame_{i}.png\")\n",
        "    if os.path.exists(frame_path):\n",
        "        openpose_frames.append(Image.open(frame_path))\n",
        "    else:\n",
        "        print(f\"File not found: {frame_path}\")\n",
        "\n",
        "# Load an image from a .npy file\n",
        "npy_image_path = \"/Users/brunopardodieguez/Downloads/Pose_test_0.984.npy\"\n",
        "if os.path.exists(npy_image_path):\n",
        "    npy_image = np.load(npy_image_path)\n",
        "    # Convert the numpy array to a PIL Image\n",
        "    your_image = Image.fromarray(npy_image.astype('uint8'))\n",
        "    # Append the image to the frames list\n",
        "    openpose_frames.append(your_image)\n",
        "else:\n",
        "    print(f\"File not found: {npy_image_path}\")\n",
        "\n",
        "# Verify if the image was added successfully\n",
        "print(f\"Total frames: {len(openpose_frames)}\")"
      ]
    },
    {
      "cell_type": "code",
      "execution_count": null,
      "metadata": {
        "colab": {
          "base_uri": "https://localhost:8080/"
        },
        "id": "E7XgE0_nGslB",
        "outputId": "026d16a4-7600-4d38-8a60-464d7c0ebd6d"
      },
      "outputs": [
        {
          "name": "stdout",
          "output_type": "stream",
          "text": [
            "Total frames: 16\n"
          ]
        }
      ],
      "source": [
        "# Path to the folder containing the npy files\n",
        "folder_path = '/content/drive/MyDrive/Computer_Science/Poses_test'\n",
        "\n",
        "# List all npy files in the folder and take only the first 16\n",
        "npy_files = sorted(glob(os.path.join(folder_path, '*.npy')))[:16]\n",
        "\n",
        "# Check if npy_files is not empty\n",
        "if not npy_files:\n",
        "    raise ValueError(\"No npy files found in the specified folder.\")\n",
        "\n",
        "# Load the npy files as images and convert them to PIL Images\n",
        "openpose_frames = [Image.fromarray(np.load(file).astype('uint8')) for file in npy_files]\n",
        "\n",
        "# Verify if the images were added successfully\n",
        "print(f\"Total frames: {len(openpose_frames)}\")\n",
        "\n",
        "# Display the first image as a test\n",
        "openpose_frames[0].show()"
      ]
    },
    {
      "cell_type": "code",
      "execution_count": null,
      "metadata": {
        "colab": {
          "base_uri": "https://localhost:8080/",
          "height": 1000
        },
        "id": "TUsl2qL2N7Nw",
        "outputId": "1f792fa3-41ac-48e3-faa9-a056a6a07ef8"
      },
      "outputs": [
        {
          "data": {
            "image/png": "[encoded data removed]",
            "text/plain": [
              "<Figure size 1500x1500 with 16 Axes>"
            ]
          },
          "metadata": {},
          "output_type": "display_data"
        }
      ],
      "source": [
        "from PIL import Image\n",
        "from typing import List\n",
        "\n",
        "# Function to create an image grid\n",
        "def image_grid(images, rows, cols):\n",
        "    total_images = rows * cols\n",
        "    images_to_display = images[:total_images]\n",
        "\n",
        "    fig, axes = plt.subplots(rows, cols, figsize=(15, 15))\n",
        "    for ax, img in zip(axes.flatten(), images_to_display):\n",
        "        ax.imshow(img)\n",
        "        ax.axis('off')\n",
        "    for ax in axes.flatten()[len(images_to_display):]:\n",
        "        ax.axis('off')\n",
        "    plt.show()\n",
        "\n",
        "# Example usage with openpose_frames\n",
        "image_grid(openpose_frames, 4, 4)"
      ]
    },
    {
      "cell_type": "code",
      "execution_count": 1,
      "metadata": {
        "colab": {
          "base_uri": "https://localhost:8080/",
          "height": 280
        },
        "id": "mNjqoqpPEcBs",
        "outputId": "f2c46e36-c750-4c7c-d004-db06eca22216"
      },
      "outputs": [
        {
          "output_type": "error",
          "ename": "NameError",
          "evalue": "name 'pipe' is not defined",
          "traceback": [
            "\u001b[0;31m---------------------------------------------------------------------------\u001b[0m",
            "\u001b[0;31mNameError\u001b[0m                                 Traceback (most recent call last)",
            "\u001b[0;32m<ipython-input-1-59a15094a150>\u001b[0m in \u001b[0;36m<cell line: 3>\u001b[0;34m()\u001b[0m\n\u001b[1;32m      1\u001b[0m \u001b[0mprompt\u001b[0m \u001b[0;34m=\u001b[0m \u001b[0;34m\"A hip-hop dancer in an urban environment. The dancer should be wearing modern streetwear with bold, contemporary styles. The background should depict a lively cityscape with graffiti walls, busting streets, and vibrant lights.\"\u001b[0m\u001b[0;34m\u001b[0m\u001b[0;34m\u001b[0m\u001b[0m\n\u001b[1;32m      2\u001b[0m \u001b[0mnegative_prompt\u001b[0m \u001b[0;34m=\u001b[0m \u001b[0;34m\"(deformed iris, deformed pupils, semi-realistic, cgi, 3d, render, sketch, cartoon, drawing, anime:1.4), text, close up, cropped, out of frame, worst quality, low quality, jpeg artifacts, ugly, duplicate, morbid, mutilated, extra fingers, mutated hands, poorly drawn hands, poorly drawn face, mutation, deformed, blurry, dehydrated, bad anatomy, bad proportions, extra limbs, cloned face, disfigured, gross proportions, malformed limbs, missing arms, missing legs, extra arms, extra legs, fused fingers, too many fingers, long neck\"\u001b[0m\u001b[0;34m\u001b[0m\u001b[0;34m\u001b[0m\u001b[0m\n\u001b[0;32m----> 3\u001b[0;31m result = pipe(\n\u001b[0m\u001b[1;32m      4\u001b[0m     \u001b[0mprompt\u001b[0m\u001b[0;34m=\u001b[0m\u001b[0mprompt\u001b[0m\u001b[0;34m,\u001b[0m\u001b[0;34m\u001b[0m\u001b[0;34m\u001b[0m\u001b[0m\n\u001b[1;32m      5\u001b[0m     \u001b[0mnegative_prompt\u001b[0m\u001b[0;34m=\u001b[0m\u001b[0mnegative_prompt\u001b[0m\u001b[0;34m,\u001b[0m\u001b[0;34m\u001b[0m\u001b[0;34m\u001b[0m\u001b[0m\n",
            "\u001b[0;31mNameError\u001b[0m: name 'pipe' is not defined"
          ]
        }
      ],
      "source": [
        "prompt = \"A hip-hop dancer in an urban environment. The dancer should be wearing modern streetwear with bold, contemporary styles. The background should depict a lively cityscape with graffiti walls, busting streets, and vibrant lights.\"\n",
        "negative_prompt = \"(deformed iris, deformed pupils, semi-realistic, cgi, 3d, render, sketch, cartoon, drawing, anime:1.4), text, close up, cropped, out of frame, worst quality, low quality, jpeg artifacts, ugly, duplicate, morbid, mutilated, extra fingers, mutated hands, poorly drawn hands, poorly drawn face, mutation, deformed, blurry, dehydrated, bad anatomy, bad proportions, extra limbs, cloned face, disfigured, gross proportions, malformed limbs, missing arms, missing legs, extra arms, extra legs, fused fingers, too many fingers, long neck\"\n",
        "result = pipe(\n",
        "    prompt=prompt,\n",
        "    negative_prompt=negative_prompt,\n",
        "    # width=512,\n",
        "    # height=768,\n",
        "    width=384,\n",
        "    height=512,\n",
        "    conditioning_frames=openpose_frames,\n",
        "    num_inference_steps=12,\n",
        ")"
      ]
    },
    {
      "cell_type": "code",
      "execution_count": null,
      "metadata": {
        "colab": {
          "background_save": true
        },
        "collapsed": true,
        "id": "uYaUJI16EcID"
      },
      "outputs": [],
      "source": [
        "export_to_gif(result.frames[0], \"result.gif\")\n",
        "display(displayImage(\"result.gif\", embed=True))"
      ]
    },
    {
      "cell_type": "code",
      "execution_count": null,
      "metadata": {
        "id": "_WaCbqEMUTWP"
      },
      "outputs": [],
      "source": [
        "!wget -O cardosanime.fp16.safetensors https://civitai.com/api/download/models/43825?type=Model&format=SafeTensor&size=pruned&fp=fp16"
      ]
    },
    {
      "cell_type": "code",
      "execution_count": null,
      "metadata": {
        "id": "6Vvu-1MKUfVm"
      },
      "outputs": [],
      "source": [
        "!wget https://raw.githubusercontent.com/huggingface/diffusers/main/scripts/convert_original_stable_diffusion_to_diffusers.py"
      ]
    },
    {
      "cell_type": "code",
      "execution_count": null,
      "metadata": {
        "id": "C0TCQnPuZMJY"
      },
      "outputs": [],
      "source": [
        "!pip install omegaconf"
      ]
    },
    {
      "cell_type": "code",
      "execution_count": null,
      "metadata": {
        "id": "EpDCTPUFWNVA"
      },
      "outputs": [],
      "source": [
        "!python convert_original_stable_diffusion_to_diffusers.py --checkpoint_path cardosanime.fp16.safetensors --dump_path CardosAnime/ --from_safetensors"
      ]
    },
    {
      "cell_type": "code",
      "execution_count": null,
      "metadata": {
        "id": "Dh9dGClmEcK0"
      },
      "outputs": [],
      "source": [
        "model_id = \"CardosAnime\"\n",
        "pipe = DiffusionPipeline.from_pretrained(\n",
        "    model_id,\n",
        "    motion_adapter=adapter,\n",
        "    controlnet=controlnet,\n",
        "    vae=vae,\n",
        "    custom_pipeline=\"pipeline_animatediff_controlnet\",\n",
        ").to(device=\"cuda\", dtype=torch.float16)\n",
        "pipe.scheduler = DPMSolverMultistepScheduler.from_pretrained(\n",
        "    model_id, subfolder=\"scheduler\", clip_sample=False, timestep_spacing=\"linspace\", steps_offset=1\n",
        ")"
      ]
    },
    {
      "cell_type": "code",
      "execution_count": null,
      "metadata": {
        "id": "wFg_cf-8c2jy"
      },
      "outputs": [],
      "source": [
        "pipe.enable_vae_slicing()"
      ]
    },
    {
      "cell_type": "code",
      "execution_count": null,
      "metadata": {
        "colab": {
          "base_uri": "https://localhost:8080/",
          "height": 49,
          "referenced_widgets": [
            "e4fd275bb9984d1585485586647328f6",
            "47d850bf5ffe4cdeaa090db246ea6e83",
            "510ec49e2d0c4e3c92ff7b761a43549d",
            "77ffcde2d2bb4652b8c91a7094b1df1a",
            "49da03c2894c4c49aa592a358db53bb1",
            "45cb253ed9a440b49ee09f8afe59a27c",
            "83b03ba0f8484ac7ae28130f9177382e",
            "ba4e352e8d9e40438612ea62e3a782f4",
            "3eefb00b532549aa9f06603a619d09c9",
            "8daef879925f47ecb3274d330b735874",
            "f5da154322e14e3d8e91db9c3079aa54"
          ]
        },
        "id": "XvEf5wYHTYDQ",
        "outputId": "1844ffda-c3e8-429c-9463-8418f01d6bc6",
        "collapsed": true
      },
      "outputs": [
        {
          "data": {
            "application/vnd.jupyter.widget-view+json": {
              "model_id": "e4fd275bb9984d1585485586647328f6",
              "version_major": 2,
              "version_minor": 0
            },
            "text/plain": [
              "  0%|          | 0/12 [00:00<?, ?it/s]"
            ]
          },
          "metadata": {},
          "output_type": "display_data"
        }
      ],
      "source": [
        "# prompt = \"1girl, cyborg, robot, futuristic background, solo, dancing, pretty, long hair\"\n",
        "prompt = \"add prompt here\"\n",
        "negative_prompt = \"(deformed iris, deformed pupils, semi-realistic, cgi, 3d, render, sketch, cartoon, drawing, anime:1.4), text, close up, cropped, out of frame, worst quality, low quality, jpeg artifacts, ugly, duplicate, morbid, mutilated, extra fingers, mutated hands, poorly drawn hands, poorly drawn face, mutation, deformed, blurry, dehydrated, bad anatomy, bad proportions, extra limbs, cloned face, disfigured, gross proportions, malformed limbs, missing arms, missing legs, extra arms, extra legs, fused fingers, too many fingers, long neck\"\n",
        "result = pipe(\n",
        "    prompt=prompt,\n",
        "    negative_prompt=negative_prompt,\n",
        "    width=512,\n",
        "    height=768,\n",
        "    # width=384,\n",
        "    # height=512,\n",
        "    openpose_frames=openpose_frames,\n",
        "    num_inference_steps=12,\n",
        ")"
      ]
    },
    {
      "cell_type": "code",
      "execution_count": null,
      "metadata": {
        "id": "WOZJJDSGcnyu"
      },
      "outputs": [],
      "source": [
        "export_to_gif(result.frames[0], \"result.gif\")\n",
        "display(displayImage(\"result.gif\", embed=True))"
      ]
    },
    {
      "cell_type": "code",
      "execution_count": null,
      "metadata": {
        "id": "yXcbiQhRbBdc"
      },
      "outputs": [],
      "source": [
        "from diffusers import DDIMScheduler\n",
        "pipe.scheduler = DDIMScheduler.from_config(pipe.scheduler.config)"
      ]
    },
    {
      "cell_type": "code",
      "execution_count": null,
      "metadata": {
        "id": "FJrsk13IORdp"
      },
      "outputs": [],
      "source": [
        "prompt = \"add prompt here\"\n",
        "negative_prompt = \"(deformed iris, deformed pupils, semi-realistic, cgi, 3d, render, sketch, cartoon, drawing, anime:1.4), text, close up, cropped, out of frame, worst quality, low quality, jpeg artifacts, ugly, duplicate, morbid, mutilated, extra fingers, mutated hands, poorly drawn hands, poorly drawn face, mutation, deformed, blurry, dehydrated, bad anatomy, bad proportions, extra limbs, cloned face, disfigured, gross proportions, malformed limbs, missing arms, missing legs, extra arms, extra legs, fused fingers, too many fingers, long neck\"\n",
        "result = pipe(\n",
        "    prompt=prompt,\n",
        "    negative_prompt=negative_prompt,\n",
        "    # width=512,\n",
        "    # height=768,\n",
        "    width=384,\n",
        "    height=512,\n",
        "    conditioning_frames=openpose_frames,\n",
        "    num_inference_steps=20,\n",
        ")"
      ]
    },
    {
      "cell_type": "code",
      "execution_count": null,
      "metadata": {
        "id": "BjjpQxvsOVrB"
      },
      "outputs": [],
      "source": [
        "export_to_gif(result.frames[0], \"result.gif\")\n",
        "display(displayImage(\"result.gif\", embed=True))"
      ]
    },
    {
      "cell_type": "code",
      "execution_count": null,
      "metadata": {
        "id": "pl4szLyJVvxK"
      },
      "outputs": [],
      "source": [
        "prompt = \"add prompt here\"\n",
        "negative_prompt = \"(deformed iris, deformed pupils, semi-realistic, cgi, 3d, render, sketch, cartoon, drawing, anime:1.4), text, close up, cropped, out of frame, worst quality, low quality, jpeg artifacts, ugly, duplicate, morbid, mutilated, extra fingers, mutated hands, poorly drawn hands, poorly drawn face, mutation, deformed, blurry, dehydrated, bad anatomy, bad proportions, extra limbs, cloned face, disfigured, gross proportions, malformed limbs, missing arms, missing legs, extra arms, extra legs, fused fingers, too many fingers, long neck\"\n",
        "result = pipe(\n",
        "    prompt=prompt,\n",
        "    negative_prompt=negative_prompt,\n",
        "    # width=512,\n",
        "    # height=768,\n",
        "    width=384,\n",
        "    height=512,\n",
        "    conditioning_frames=openpose_frames,\n",
        "    num_inference_steps=20,\n",
        ")"
      ]
    },
    {
      "cell_type": "code",
      "execution_count": null,
      "metadata": {
        "id": "2GbIdZR-Vvs1"
      },
      "outputs": [],
      "source": [
        "export_to_gif(result.frames[0], \"result2.gif\")\n",
        "display(displayImage(\"result2.gif\", embed=True))"
      ]
    },
    {
      "cell_type": "code",
      "execution_count": null,
      "metadata": {
        "id": "K3_NULj-S_8P"
      },
      "outputs": [],
      "source": [
        "# model_id = \"SG161222/Realistic_Vision_V5.1_noVAE\"\n",
        "model_id = \"a-r-r-o-w/dreamshaper-xl-turbo\"\n",
        "pipe = DiffusionPipeline.from_pretrained(\n",
        "    model_id,\n",
        "    torch_dtype=torch.float16,\n",
        "    variant=\"fp16\",\n",
        "    motion_adapter=adapter,\n",
        "    controlnet=controlnet,\n",
        "    vae=vae,\n",
        "    custom_pipeline=\"pipeline_animatediff_controlnet\",\n",
        ").to(device=\"cuda\", dtype=torch.float16)\n",
        "pipe.scheduler = DPMSolverMultistepScheduler.from_pretrained(\n",
        "    model_id, subfolder=\"scheduler\", clip_sample=False, timestep_spacing=\"linspace\", steps_offset=1\n",
        ")"
      ]
    }
  ],
  "metadata": {
    "accelerator": "GPU",
    "colab": {
      "gpuType": "T4",
      "provenance": []
    },
    "kernelspec": {
      "display_name": "Python 3",
      "name": "python3"
    },
    "language_info": {
      "name": "python"
    },
    "widgets": {
      "application/vnd.jupyter.widget-state+json": {
        "3eefb00b532549aa9f06603a619d09c9": {
          "model_module": "@jupyter-widgets/controls",
          "model_module_version": "1.5.0",
          "model_name": "ProgressStyleModel",
          "state": {
            "_model_module": "@jupyter-widgets/controls",
            "_model_module_version": "1.5.0",
            "_model_name": "ProgressStyleModel",
            "_view_count": null,
            "_view_module": "@jupyter-widgets/base",
            "_view_module_version": "1.2.0",
            "_view_name": "StyleView",
            "bar_color": null,
            "description_width": ""
          }
        },
        "45cb253ed9a440b49ee09f8afe59a27c": {
          "model_module": "@jupyter-widgets/base",
          "model_module_version": "1.2.0",
          "model_name": "LayoutModel",
          "state": {
            "_model_module": "@jupyter-widgets/base",
            "_model_module_version": "1.2.0",
            "_model_name": "LayoutModel",
            "_view_count": null,
            "_view_module": "@jupyter-widgets/base",
            "_view_module_version": "1.2.0",
            "_view_name": "LayoutView",
            "align_content": null,
            "align_items": null,
            "align_self": null,
            "border": null,
            "bottom": null,
            "display": null,
            "flex": null,
            "flex_flow": null,
            "grid_area": null,
            "grid_auto_columns": null,
            "grid_auto_flow": null,
            "grid_auto_rows": null,
            "grid_column": null,
            "grid_gap": null,
            "grid_row": null,
            "grid_template_areas": null,
            "grid_template_columns": null,
            "grid_template_rows": null,
            "height": null,
            "justify_content": null,
            "justify_items": null,
            "left": null,
            "margin": null,
            "max_height": null,
            "max_width": null,
            "min_height": null,
            "min_width": null,
            "object_fit": null,
            "object_position": null,
            "order": null,
            "overflow": null,
            "overflow_x": null,
            "overflow_y": null,
            "padding": null,
            "right": null,
            "top": null,
            "visibility": null,
            "width": null
          }
        },
        "47d850bf5ffe4cdeaa090db246ea6e83": {
          "model_module": "@jupyter-widgets/controls",
          "model_module_version": "1.5.0",
          "model_name": "HTMLModel",
          "state": {
            "_dom_classes": [],
            "_model_module": "@jupyter-widgets/controls",
            "_model_module_version": "1.5.0",
            "_model_name": "HTMLModel",
            "_view_count": null,
            "_view_module": "@jupyter-widgets/controls",
            "_view_module_version": "1.5.0",
            "_view_name": "HTMLView",
            "description": "",
            "description_tooltip": null,
            "layout": "IPY_MODEL_45cb253ed9a440b49ee09f8afe59a27c",
            "placeholder": "​",
            "style": "IPY_MODEL_83b03ba0f8484ac7ae28130f9177382e",
            "value": "100%"
          }
        },
        "49da03c2894c4c49aa592a358db53bb1": {
          "model_module": "@jupyter-widgets/base",
          "model_module_version": "1.2.0",
          "model_name": "LayoutModel",
          "state": {
            "_model_module": "@jupyter-widgets/base",
            "_model_module_version": "1.2.0",
            "_model_name": "LayoutModel",
            "_view_count": null,
            "_view_module": "@jupyter-widgets/base",
            "_view_module_version": "1.2.0",
            "_view_name": "LayoutView",
            "align_content": null,
            "align_items": null,
            "align_self": null,
            "border": null,
            "bottom": null,
            "display": null,
            "flex": null,
            "flex_flow": null,
            "grid_area": null,
            "grid_auto_columns": null,
            "grid_auto_flow": null,
            "grid_auto_rows": null,
            "grid_column": null,
            "grid_gap": null,
            "grid_row": null,
            "grid_template_areas": null,
            "grid_template_columns": null,
            "grid_template_rows": null,
            "height": null,
            "justify_content": null,
            "justify_items": null,
            "left": null,
            "margin": null,
            "max_height": null,
            "max_width": null,
            "min_height": null,
            "min_width": null,
            "object_fit": null,
            "object_position": null,
            "order": null,
            "overflow": null,
            "overflow_x": null,
            "overflow_y": null,
            "padding": null,
            "right": null,
            "top": null,
            "visibility": null,
            "width": null
          }
        },
        "510ec49e2d0c4e3c92ff7b761a43549d": {
          "model_module": "@jupyter-widgets/controls",
          "model_module_version": "1.5.0",
          "model_name": "FloatProgressModel",
          "state": {
            "_dom_classes": [],
            "_model_module": "@jupyter-widgets/controls",
            "_model_module_version": "1.5.0",
            "_model_name": "FloatProgressModel",
            "_view_count": null,
            "_view_module": "@jupyter-widgets/controls",
            "_view_module_version": "1.5.0",
            "_view_name": "ProgressView",
            "bar_style": "success",
            "description": "",
            "description_tooltip": null,
            "layout": "IPY_MODEL_ba4e352e8d9e40438612ea62e3a782f4",
            "max": 12,
            "min": 0,
            "orientation": "horizontal",
            "style": "IPY_MODEL_3eefb00b532549aa9f06603a619d09c9",
            "value": 12
          }
        },
        "77ffcde2d2bb4652b8c91a7094b1df1a": {
          "model_module": "@jupyter-widgets/controls",
          "model_module_version": "1.5.0",
          "model_name": "HTMLModel",
          "state": {
            "_dom_classes": [],
            "_model_module": "@jupyter-widgets/controls",
            "_model_module_version": "1.5.0",
            "_model_name": "HTMLModel",
            "_view_count": null,
            "_view_module": "@jupyter-widgets/controls",
            "_view_module_version": "1.5.0",
            "_view_name": "HTMLView",
            "description": "",
            "description_tooltip": null,
            "layout": "IPY_MODEL_8daef879925f47ecb3274d330b735874",
            "placeholder": "​",
            "style": "IPY_MODEL_f5da154322e14e3d8e91db9c3079aa54",
            "value": " 12/12 [01:08&lt;00:00,  6.01s/it]"
          }
        },
        "83b03ba0f8484ac7ae28130f9177382e": {
          "model_module": "@jupyter-widgets/controls",
          "model_module_version": "1.5.0",
          "model_name": "DescriptionStyleModel",
          "state": {
            "_model_module": "@jupyter-widgets/controls",
            "_model_module_version": "1.5.0",
            "_model_name": "DescriptionStyleModel",
            "_view_count": null,
            "_view_module": "@jupyter-widgets/base",
            "_view_module_version": "1.2.0",
            "_view_name": "StyleView",
            "description_width": ""
          }
        },
        "8daef879925f47ecb3274d330b735874": {
          "model_module": "@jupyter-widgets/base",
          "model_module_version": "1.2.0",
          "model_name": "LayoutModel",
          "state": {
            "_model_module": "@jupyter-widgets/base",
            "_model_module_version": "1.2.0",
            "_model_name": "LayoutModel",
            "_view_count": null,
            "_view_module": "@jupyter-widgets/base",
            "_view_module_version": "1.2.0",
            "_view_name": "LayoutView",
            "align_content": null,
            "align_items": null,
            "align_self": null,
            "border": null,
            "bottom": null,
            "display": null,
            "flex": null,
            "flex_flow": null,
            "grid_area": null,
            "grid_auto_columns": null,
            "grid_auto_flow": null,
            "grid_auto_rows": null,
            "grid_column": null,
            "grid_gap": null,
            "grid_row": null,
            "grid_template_areas": null,
            "grid_template_columns": null,
            "grid_template_rows": null,
            "height": null,
            "justify_content": null,
            "justify_items": null,
            "left": null,
            "margin": null,
            "max_height": null,
            "max_width": null,
            "min_height": null,
            "min_width": null,
            "object_fit": null,
            "object_position": null,
            "order": null,
            "overflow": null,
            "overflow_x": null,
            "overflow_y": null,
            "padding": null,
            "right": null,
            "top": null,
            "visibility": null,
            "width": null
          }
        },
        "ba4e352e8d9e40438612ea62e3a782f4": {
          "model_module": "@jupyter-widgets/base",
          "model_module_version": "1.2.0",
          "model_name": "LayoutModel",
          "state": {
            "_model_module": "@jupyter-widgets/base",
            "_model_module_version": "1.2.0",
            "_model_name": "LayoutModel",
            "_view_count": null,
            "_view_module": "@jupyter-widgets/base",
            "_view_module_version": "1.2.0",
            "_view_name": "LayoutView",
            "align_content": null,
            "align_items": null,
            "align_self": null,
            "border": null,
            "bottom": null,
            "display": null,
            "flex": null,
            "flex_flow": null,
            "grid_area": null,
            "grid_auto_columns": null,
            "grid_auto_flow": null,
            "grid_auto_rows": null,
            "grid_column": null,
            "grid_gap": null,
            "grid_row": null,
            "grid_template_areas": null,
            "grid_template_columns": null,
            "grid_template_rows": null,
            "height": null,
            "justify_content": null,
            "justify_items": null,
            "left": null,
            "margin": null,
            "max_height": null,
            "max_width": null,
            "min_height": null,
            "min_width": null,
            "object_fit": null,
            "object_position": null,
            "order": null,
            "overflow": null,
            "overflow_x": null,
            "overflow_y": null,
            "padding": null,
            "right": null,
            "top": null,
            "visibility": null,
            "width": null
          }
        },
        "e4fd275bb9984d1585485586647328f6": {
          "model_module": "@jupyter-widgets/controls",
          "model_module_version": "1.5.0",
          "model_name": "HBoxModel",
          "state": {
            "_dom_classes": [],
            "_model_module": "@jupyter-widgets/controls",
            "_model_module_version": "1.5.0",
            "_model_name": "HBoxModel",
            "_view_count": null,
            "_view_module": "@jupyter-widgets/controls",
            "_view_module_version": "1.5.0",
            "_view_name": "HBoxView",
            "box_style": "",
            "children": [
              "IPY_MODEL_47d850bf5ffe4cdeaa090db246ea6e83",
              "IPY_MODEL_510ec49e2d0c4e3c92ff7b761a43549d",
              "IPY_MODEL_77ffcde2d2bb4652b8c91a7094b1df1a"
            ],
            "layout": "IPY_MODEL_49da03c2894c4c49aa592a358db53bb1"
          }
        },
        "f5da154322e14e3d8e91db9c3079aa54": {
          "model_module": "@jupyter-widgets/controls",
          "model_module_version": "1.5.0",
          "model_name": "DescriptionStyleModel",
          "state": {
            "_model_module": "@jupyter-widgets/controls",
            "_model_module_version": "1.5.0",
            "_model_name": "DescriptionStyleModel",
            "_view_count": null,
            "_view_module": "@jupyter-widgets/base",
            "_view_module_version": "1.2.0",
            "_view_name": "StyleView",
            "description_width": ""
          }
        }
      }
    }
  },
  "nbformat": 4,
  "nbformat_minor": 0
}